{
 "cells": [
  {
   "cell_type": "markdown",
   "metadata": {},
   "source": [
    "### Models performance comparison"
   ]
  },
  {
   "cell_type": "code",
   "execution_count": 1,
   "metadata": {},
   "outputs": [],
   "source": [
    "import pandas as pd\n",
    "import matplotlib.pyplot as plt\n",
    "import seaborn as sns"
   ]
  },
  {
   "cell_type": "code",
   "execution_count": 2,
   "metadata": {
    "scrolled": true
   },
   "outputs": [],
   "source": [
    "baseline = pd.read_csv(\"baseline_performance.csv\")\n",
    "effnetB1 = pd.read_csv(\"EfficientNetB1_performance.csv\")\n",
    "effnetB1_pre = pd.read_csv(\"EfficientNetB1_image_preprocessing_performance.csv\")"
   ]
  },
  {
   "cell_type": "code",
   "execution_count": 3,
   "metadata": {},
   "outputs": [
    {
     "data": {
      "text/html": [
       "<div>\n",
       "<style scoped>\n",
       "    .dataframe tbody tr th:only-of-type {\n",
       "        vertical-align: middle;\n",
       "    }\n",
       "\n",
       "    .dataframe tbody tr th {\n",
       "        vertical-align: top;\n",
       "    }\n",
       "\n",
       "    .dataframe thead th {\n",
       "        text-align: right;\n",
       "    }\n",
       "</style>\n",
       "<table border=\"1\" class=\"dataframe\">\n",
       "  <thead>\n",
       "    <tr style=\"text-align: right;\">\n",
       "      <th></th>\n",
       "      <th>Model</th>\n",
       "      <th>Train accuracy</th>\n",
       "      <th>Train loss</th>\n",
       "      <th>Test accuracy</th>\n",
       "      <th>Test loss</th>\n",
       "      <th>Glioma Precision</th>\n",
       "      <th>Glioma Recall</th>\n",
       "      <th>Meningioma Precision</th>\n",
       "      <th>Meningioma Recall</th>\n",
       "      <th>No Tumor Precision</th>\n",
       "      <th>No Tumor Recall</th>\n",
       "      <th>Pituitary Precision</th>\n",
       "      <th>Pituitary Recall</th>\n",
       "    </tr>\n",
       "  </thead>\n",
       "  <tbody>\n",
       "    <tr>\n",
       "      <th>0</th>\n",
       "      <td>Baseline model</td>\n",
       "      <td>0.994338</td>\n",
       "      <td>0.018203</td>\n",
       "      <td>0.685279</td>\n",
       "      <td>5.407233</td>\n",
       "      <td>1.000000</td>\n",
       "      <td>0.17</td>\n",
       "      <td>0.640719</td>\n",
       "      <td>0.930435</td>\n",
       "      <td>0.626506</td>\n",
       "      <td>0.990476</td>\n",
       "      <td>0.954545</td>\n",
       "      <td>0.567568</td>\n",
       "    </tr>\n",
       "    <tr>\n",
       "      <th>0</th>\n",
       "      <td>EffNetB1 model</td>\n",
       "      <td>0.989987</td>\n",
       "      <td>0.030249</td>\n",
       "      <td>0.776650</td>\n",
       "      <td>1.677352</td>\n",
       "      <td>0.888889</td>\n",
       "      <td>0.24</td>\n",
       "      <td>0.676647</td>\n",
       "      <td>0.982609</td>\n",
       "      <td>0.823529</td>\n",
       "      <td>0.933333</td>\n",
       "      <td>0.876543</td>\n",
       "      <td>0.959459</td>\n",
       "    </tr>\n",
       "    <tr>\n",
       "      <th>0</th>\n",
       "      <td>EffNetB1 preprocess model</td>\n",
       "      <td>0.994340</td>\n",
       "      <td>0.016133</td>\n",
       "      <td>0.794416</td>\n",
       "      <td>2.171711</td>\n",
       "      <td>1.000000</td>\n",
       "      <td>0.27</td>\n",
       "      <td>0.680723</td>\n",
       "      <td>0.982609</td>\n",
       "      <td>0.809524</td>\n",
       "      <td>0.971429</td>\n",
       "      <td>0.946667</td>\n",
       "      <td>0.959459</td>\n",
       "    </tr>\n",
       "  </tbody>\n",
       "</table>\n",
       "</div>"
      ],
      "text/plain": [
       "                       Model  Train accuracy  Train loss  Test accuracy  \\\n",
       "0             Baseline model        0.994338    0.018203       0.685279   \n",
       "0             EffNetB1 model        0.989987    0.030249       0.776650   \n",
       "0  EffNetB1 preprocess model        0.994340    0.016133       0.794416   \n",
       "\n",
       "   Test loss  Glioma Precision  Glioma Recall  Meningioma Precision  \\\n",
       "0   5.407233          1.000000           0.17              0.640719   \n",
       "0   1.677352          0.888889           0.24              0.676647   \n",
       "0   2.171711          1.000000           0.27              0.680723   \n",
       "\n",
       "   Meningioma Recall  No Tumor Precision  No Tumor Recall  \\\n",
       "0           0.930435            0.626506         0.990476   \n",
       "0           0.982609            0.823529         0.933333   \n",
       "0           0.982609            0.809524         0.971429   \n",
       "\n",
       "   Pituitary Precision  Pituitary Recall  \n",
       "0             0.954545          0.567568  \n",
       "0             0.876543          0.959459  \n",
       "0             0.946667          0.959459  "
      ]
     },
     "execution_count": 3,
     "metadata": {},
     "output_type": "execute_result"
    }
   ],
   "source": [
    "performance = baseline.append(effnetB1).append(effnetB1_pre)\n",
    "performance"
   ]
  },
  {
   "cell_type": "code",
   "execution_count": 4,
   "metadata": {},
   "outputs": [
    {
     "data": {
      "image/png": "[encoded data removed]",
      "text/plain": [
       "<Figure size 432x216 with 1 Axes>"
      ]
     },
     "metadata": {},
     "output_type": "display_data"
    }
   ],
   "source": [
    "# Plot test accuracy comparison\n",
    "sns.set_theme(style=\"whitegrid\")\n",
    "f, ax = plt.subplots(figsize=(6, 3))\n",
    "sns.barplot(x='Test accuracy', y='Model', data=performance)\n",
    "plt.title(\"Test Accuracy Comparison\")\n",
    "plt.show()"
   ]
  },
  {
   "cell_type": "code",
   "execution_count": 5,
   "metadata": {},
   "outputs": [
    {
     "name": "stderr",
     "output_type": "stream",
     "text": [
      "<ipython-input-5-75dc23c400cd>:4: SettingWithCopyWarning: \n",
      "A value is trying to be set on a copy of a slice from a DataFrame.\n",
      "Try using .loc[row_indexer,col_indexer] = value instead\n",
      "\n",
      "See the caveats in the documentation: https://pandas.pydata.org/pandas-docs/stable/user_guide/indexing.html#returning-a-view-versus-a-copy\n",
      "  glioma['Tumor'] = 'Glioma'\n",
      "<ipython-input-5-75dc23c400cd>:8: SettingWithCopyWarning: \n",
      "A value is trying to be set on a copy of a slice from a DataFrame.\n",
      "Try using .loc[row_indexer,col_indexer] = value instead\n",
      "\n",
      "See the caveats in the documentation: https://pandas.pydata.org/pandas-docs/stable/user_guide/indexing.html#returning-a-view-versus-a-copy\n",
      "  meningioma['Tumor'] = 'Meningioma'\n",
      "<ipython-input-5-75dc23c400cd>:12: SettingWithCopyWarning: \n",
      "A value is trying to be set on a copy of a slice from a DataFrame.\n",
      "Try using .loc[row_indexer,col_indexer] = value instead\n",
      "\n",
      "See the caveats in the documentation: https://pandas.pydata.org/pandas-docs/stable/user_guide/indexing.html#returning-a-view-versus-a-copy\n",
      "  no_tumor['Tumor'] = 'No Tumor'\n",
      "<ipython-input-5-75dc23c400cd>:16: SettingWithCopyWarning: \n",
      "A value is trying to be set on a copy of a slice from a DataFrame.\n",
      "Try using .loc[row_indexer,col_indexer] = value instead\n",
      "\n",
      "See the caveats in the documentation: https://pandas.pydata.org/pandas-docs/stable/user_guide/indexing.html#returning-a-view-versus-a-copy\n",
      "  pituitary['Tumor'] = 'Pituitary'\n"
     ]
    },
    {
     "data": {
      "text/html": [
       "<div>\n",
       "<style scoped>\n",
       "    .dataframe tbody tr th:only-of-type {\n",
       "        vertical-align: middle;\n",
       "    }\n",
       "\n",
       "    .dataframe tbody tr th {\n",
       "        vertical-align: top;\n",
       "    }\n",
       "\n",
       "    .dataframe thead th {\n",
       "        text-align: right;\n",
       "    }\n",
       "</style>\n",
       "<table border=\"1\" class=\"dataframe\">\n",
       "  <thead>\n",
       "    <tr style=\"text-align: right;\">\n",
       "      <th></th>\n",
       "      <th>Model</th>\n",
       "      <th>Precision Rate</th>\n",
       "      <th>Recall Rate</th>\n",
       "      <th>Tumor</th>\n",
       "    </tr>\n",
       "  </thead>\n",
       "  <tbody>\n",
       "    <tr>\n",
       "      <th>0</th>\n",
       "      <td>Baseline model</td>\n",
       "      <td>1.000000</td>\n",
       "      <td>0.170000</td>\n",
       "      <td>Glioma</td>\n",
       "    </tr>\n",
       "    <tr>\n",
       "      <th>0</th>\n",
       "      <td>EffNetB1 model</td>\n",
       "      <td>0.888889</td>\n",
       "      <td>0.240000</td>\n",
       "      <td>Glioma</td>\n",
       "    </tr>\n",
       "    <tr>\n",
       "      <th>0</th>\n",
       "      <td>EffNetB1 preprocess model</td>\n",
       "      <td>1.000000</td>\n",
       "      <td>0.270000</td>\n",
       "      <td>Glioma</td>\n",
       "    </tr>\n",
       "    <tr>\n",
       "      <th>0</th>\n",
       "      <td>Baseline model</td>\n",
       "      <td>0.640719</td>\n",
       "      <td>0.930435</td>\n",
       "      <td>Meningioma</td>\n",
       "    </tr>\n",
       "    <tr>\n",
       "      <th>0</th>\n",
       "      <td>EffNetB1 model</td>\n",
       "      <td>0.676647</td>\n",
       "      <td>0.982609</td>\n",
       "      <td>Meningioma</td>\n",
       "    </tr>\n",
       "    <tr>\n",
       "      <th>0</th>\n",
       "      <td>EffNetB1 preprocess model</td>\n",
       "      <td>0.680723</td>\n",
       "      <td>0.982609</td>\n",
       "      <td>Meningioma</td>\n",
       "    </tr>\n",
       "    <tr>\n",
       "      <th>0</th>\n",
       "      <td>Baseline model</td>\n",
       "      <td>0.626506</td>\n",
       "      <td>0.990476</td>\n",
       "      <td>No Tumor</td>\n",
       "    </tr>\n",
       "    <tr>\n",
       "      <th>0</th>\n",
       "      <td>EffNetB1 model</td>\n",
       "      <td>0.823529</td>\n",
       "      <td>0.933333</td>\n",
       "      <td>No Tumor</td>\n",
       "    </tr>\n",
       "    <tr>\n",
       "      <th>0</th>\n",
       "      <td>EffNetB1 preprocess model</td>\n",
       "      <td>0.809524</td>\n",
       "      <td>0.971429</td>\n",
       "      <td>No Tumor</td>\n",
       "    </tr>\n",
       "    <tr>\n",
       "      <th>0</th>\n",
       "      <td>Baseline model</td>\n",
       "      <td>0.954545</td>\n",
       "      <td>0.567568</td>\n",
       "      <td>Pituitary</td>\n",
       "    </tr>\n",
       "    <tr>\n",
       "      <th>0</th>\n",
       "      <td>EffNetB1 model</td>\n",
       "      <td>0.876543</td>\n",
       "      <td>0.959459</td>\n",
       "      <td>Pituitary</td>\n",
       "    </tr>\n",
       "    <tr>\n",
       "      <th>0</th>\n",
       "      <td>EffNetB1 preprocess model</td>\n",
       "      <td>0.946667</td>\n",
       "      <td>0.959459</td>\n",
       "      <td>Pituitary</td>\n",
       "    </tr>\n",
       "  </tbody>\n",
       "</table>\n",
       "</div>"
      ],
      "text/plain": [
       "                       Model  Precision Rate  Recall Rate       Tumor\n",
       "0             Baseline model        1.000000     0.170000      Glioma\n",
       "0             EffNetB1 model        0.888889     0.240000      Glioma\n",
       "0  EffNetB1 preprocess model        1.000000     0.270000      Glioma\n",
       "0             Baseline model        0.640719     0.930435  Meningioma\n",
       "0             EffNetB1 model        0.676647     0.982609  Meningioma\n",
       "0  EffNetB1 preprocess model        0.680723     0.982609  Meningioma\n",
       "0             Baseline model        0.626506     0.990476    No Tumor\n",
       "0             EffNetB1 model        0.823529     0.933333    No Tumor\n",
       "0  EffNetB1 preprocess model        0.809524     0.971429    No Tumor\n",
       "0             Baseline model        0.954545     0.567568   Pituitary\n",
       "0             EffNetB1 model        0.876543     0.959459   Pituitary\n",
       "0  EffNetB1 preprocess model        0.946667     0.959459   Pituitary"
      ]
     },
     "execution_count": 5,
     "metadata": {},
     "output_type": "execute_result"
    }
   ],
   "source": [
    "# Construct dataframe of precision and recall rates\n",
    "glioma = performance[['Model', 'Glioma Precision', 'Glioma Recall']]\n",
    "glioma.columns = ['Model', 'Precision Rate', 'Recall Rate']\n",
    "glioma['Tumor'] = 'Glioma'\n",
    "\n",
    "meningioma = performance[['Model', 'Meningioma Precision', 'Meningioma Recall']]\n",
    "meningioma.columns = ['Model', 'Precision Rate', 'Recall Rate']\n",
    "meningioma['Tumor'] = 'Meningioma'\n",
    "\n",
    "no_tumor = performance[['Model', 'No Tumor Precision', 'No Tumor Recall']]\n",
    "no_tumor.columns = ['Model', 'Precision Rate', 'Recall Rate']\n",
    "no_tumor['Tumor'] = 'No Tumor'\n",
    "\n",
    "pituitary = performance[['Model', 'Pituitary Precision', 'Pituitary Recall']]\n",
    "pituitary.columns = ['Model', 'Precision Rate', 'Recall Rate']\n",
    "pituitary['Tumor'] = 'Pituitary'\n",
    "\n",
    "precision_recall = glioma.append(meningioma).append(no_tumor).append(pituitary)\n",
    "precision_recall"
   ]
  },
  {
   "cell_type": "code",
   "execution_count": 6,
   "metadata": {},
   "outputs": [
    {
     "data": {
      "image/png": "[encoded data removed]",
      "text/plain": [
       "<Figure size 720x360 with 1 Axes>"
      ]
     },
     "metadata": {},
     "output_type": "display_data"
    }
   ],
   "source": [
    "sns.set_theme(style=\"whitegrid\")\n",
    "f, ax = plt.subplots(figsize=(10, 5))\n",
    "sns.barplot(x='Precision Rate', y='Model', hue='Tumor', data=precision_recall)\n",
    "plt.title(\"Precision Comparison\")\n",
    "plt.legend(bbox_to_anchor=(1.05, 1), loc=2, borderaxespad=0.)\n",
    "plt.show()"
   ]
  },
  {
   "cell_type": "code",
   "execution_count": 7,
   "metadata": {},
   "outputs": [
    {
     "data": {
      "image/png": "[encoded data removed]",
      "text/plain": [
       "<Figure size 720x360 with 1 Axes>"
      ]
     },
     "metadata": {},
     "output_type": "display_data"
    }
   ],
   "source": [
    "sns.set_theme(style=\"whitegrid\")\n",
    "f, ax = plt.subplots(figsize=(10, 5))\n",
    "sns.barplot(x='Recall Rate', y='Model', hue='Tumor', data=precision_recall)\n",
    "plt.title(\"Recall Comparison\")\n",
    "plt.legend(bbox_to_anchor=(1.05, 1), loc=2, borderaxespad=0.)\n",
    "plt.show()"
   ]
  }
 ],
 "metadata": {
  "kernelspec": {
   "display_name": "Python 3",
   "language": "python",
   "name": "python3"
  },
  "language_info": {
   "codemirror_mode": {
    "name": "ipython",
    "version": 3
   },
   "file_extension": ".py",
   "mimetype": "text/x-python",
   "name": "python",
   "nbconvert_exporter": "python",
   "pygments_lexer": "ipython3",
   "version": "3.8.5"
  }
 },
 "nbformat": 4,
 "nbformat_minor": 4
}
